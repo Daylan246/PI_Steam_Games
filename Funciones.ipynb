{
 "cells": [
  {
   "cell_type": "code",
   "execution_count": 2,
   "metadata": {},
   "outputs": [],
   "source": [
    "from fastapi import FastAPI\n",
    "import pandas as pd\n",
    "import pyarrow\n",
    "import json\n",
    "\n",
    "from typing import List, Dict, Union, Any\n",
    "user_games_final = pd.read_parquet('user_reviews_final.parquet')\n",
    "user_items_final = pd.read_parquet('user_items_final.parquet')\n",
    "user_reviews_final = pd.read_parquet('user_items_final.parquet')\n",
    "\n",
    "app = FastAPI()\n",
    "\n",
    "@app.get(\"/playtime/{genre}\")\n",
    "def PlayTimeGenre(genre: str):\n",
    "\n",
    "    # Fusionar los DataFrames en el \"ID del elemento\"\n",
    "    merged_data = pd.merge(user_games_final, user_items_final, left_on='Item ID', right_on='Item ID')\n",
    "\n",
    "    # Filtrar los datos por el género proporcionado\n",
    "    genre_data = merged_data[merged_data['Genres'] == genre]\n",
    "\n",
    "    # Agrupar por año de lanzamiento y calcular el tiempo total de juego para cada año\n",
    "    year_playtime = genre_data.groupby('Release Date')['Play Time Forever'].sum() / 60\n",
    "\n",
    "    # Encontrar el año con más tiempo de juego\n",
    "    max_year = year_playtime.idxmax()\n",
    "\n",
    "    # Crear el diccionario de retorno\n",
    "    result = {f\"Año de lanzamiento con más horas jugadas para {genre}\": max_year}\n",
    "\n",
    "    return result\n",
    "\n",
    "@app.get(\"/user_for_genre/{genre}\")\n",
    "def UserForGenre(genre: str):\n",
    "\n",
    "    # Fusionar los DataFrames en el \"ID del elemento\"\n",
    "    merged_data = pd.merge(user_games_final, user_items_final, left_on='Item ID', right_on='Item ID')\n",
    "\n",
    "    # Filtrar los datos por el género proporcionado\n",
    "    genre_data = merged_data[merged_data['Genres'] == genre]\n",
    "\n",
    "    # Encontrar el usuario con más tiempo de juego\n",
    "    max_user = genre_data.groupby('User ID')['Play Time Forever'].sum().idxmax()\n",
    "\n",
    "    # Agrupar por año de lanzamiento y calcular el tiempo total de juego para cada año\n",
    "    year_playtime = genre_data.groupby('Release Date')['Play Time Forever'].sum().reset_index()\n",
    "\n",
    "    # Crear la lista de horas jugadas por año\n",
    "    hours_played: List[dict] = [{\"Año\": row['Release Date'], \"Horas\": row['Play Time Forever']} for _, row in year_playtime.iterrows()]\n",
    "\n",
    "    # Crear el diccionario de retorno\n",
    "    result = {\"Usuario con más horas jugadas para Género X\": max_user, \"Horas jugadas\": hours_played}\n",
    "\n",
    "    return result"
   ]
  }
 ],
 "metadata": {
  "kernelspec": {
   "display_name": "Python 3",
   "language": "python",
   "name": "python3"
  },
  "language_info": {
   "codemirror_mode": {
    "name": "ipython",
    "version": 3
   },
   "file_extension": ".py",
   "mimetype": "text/x-python",
   "name": "python",
   "nbconvert_exporter": "python",
   "pygments_lexer": "ipython3",
   "version": "3.11.6"
  }
 },
 "nbformat": 4,
 "nbformat_minor": 2
}
