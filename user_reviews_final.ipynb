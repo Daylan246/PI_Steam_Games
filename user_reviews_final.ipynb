{
 "cells": [
  {
   "cell_type": "code",
   "execution_count": 23,
   "metadata": {},
   "outputs": [],
   "source": [
    "#cargamos las librerias que vamos a utilizar\n",
    "import numpy as np\n",
    "import gzip\n",
    "import nltk\n",
    "import json\n",
    "import pandas as pd \n",
    "import ast\n",
    "import matplotlib as plt\n",
    "from textblob import TextBlob\n",
    "import pyarrow\n",
    "from vaderSentiment.vaderSentiment import SentimentIntensityAnalyzer"
   ]
  },
  {
   "cell_type": "code",
   "execution_count": 24,
   "metadata": {},
   "outputs": [],
   "source": [
    "#cargamos el archivo json\n",
    "with open('C:\\\\Users\\\\Dr-Pc\\\\OneDrive\\\\Escritorio\\\\PI MLOps - STEAM\\\\australian_user_reviews.json', 'r', encoding='utf-8') as file:\n",
    "    data = [eval(line) for line in file]"
   ]
  },
  {
   "cell_type": "code",
   "execution_count": 25,
   "metadata": {},
   "outputs": [],
   "source": [
    "# Desanidar las columnas de 'items' en el DataFrame\n",
    "user_reviews = pd.DataFrame(data)\n",
    "user_reviews_explored = user_reviews.explode('reviews')\n",
    "user_reviews_normalized = pd.json_normalize(user_reviews_explored['reviews'])\n",
    "user_reviews_explored.reset_index(drop=True, inplace=True)\n",
    "user_reviews_normalized.reset_index(drop=True, inplace=True)\n",
    "user_reviews_final = pd.concat([user_reviews_explored.drop('reviews', axis=1), user_reviews_normalized], axis=1)"
   ]
  },
  {
   "cell_type": "code",
   "execution_count": 26,
   "metadata": {},
   "outputs": [],
   "source": [
    "#creamos la funcion de analisis de sentimiento\n",
    "def analizar_sentimiento(review):\n",
    "    if pd.notnull(review):  # Verificar si la reseña no está ausente\n",
    "        analysis = TextBlob(review)\n",
    "        # Asignar valor según la polaridad de la reseña\n",
    "        if analysis.sentiment.polarity < 0:\n",
    "            return 0  # Malo\n",
    "        elif analysis.sentiment.polarity == 0:\n",
    "            return 1  # Neutral\n",
    "        else:\n",
    "            return 2  # Positivo\n",
    "    else:\n",
    "        return 1  # Valor predeterminado si la reseña está ausente\n",
    "\n",
    "#creamos la columna \"sentiment_analysis\" en base a la columna \"review\" a la cual se le aplicó la funcion de arriba\n",
    "user_reviews_final['sentiment_analysis'] = user_reviews_final['review'].apply(analizar_sentimiento)"
   ]
  },
  {
   "cell_type": "code",
   "execution_count": 27,
   "metadata": {},
   "outputs": [],
   "source": [
    "#aquí renombramos las columnas para que sea vean más prolijas y esteticas\n",
    "user_reviews_final.rename(columns={'sentiment_analysis': 'Sentiment Analysis'}, inplace=True)\n",
    "user_reviews_final.rename(columns={'recommend': 'Recommend'}, inplace=True)\n",
    "user_reviews_final.rename(columns={'helpful': 'Helpful'}, inplace=True)\n",
    "user_reviews_final.rename(columns={'item_id': 'Item ID'}, inplace=True)\n",
    "user_reviews_final.rename(columns={'last_edited': 'Last Edited'}, inplace=True)\n",
    "user_reviews_final.rename(columns={'funny': 'Funny'}, inplace=True)\n",
    "user_reviews_final.rename(columns={'user_url': 'User URL'}, inplace=True)\n",
    "user_reviews_final.rename(columns={'user_id': 'User ID'}, inplace=True)"
   ]
  },
  {
   "cell_type": "code",
   "execution_count": 28,
   "metadata": {},
   "outputs": [],
   "source": [
    "#creamos la columna \"Year\" que llenaremos con datos extraidos de la columna \"posted\"\n",
    "user_reviews_final['Year'] = user_reviews_final['posted'].str.extract(r'(\\d{4})')\n",
    "#eliminamos la columna que ya no utilizamos\n",
    "user_reviews_final.drop('posted' , axis = 1, inplace = True)"
   ]
  },
  {
   "cell_type": "code",
   "execution_count": 29,
   "metadata": {},
   "outputs": [],
   "source": [
    "#eliminamos las siguientes columnas las cuales no utilizaremos\n",
    "user_reviews_final.drop(columns=\"Funny\", inplace=True)\n",
    "user_reviews_final.drop(columns=\"Last Edited\", inplace=True)"
   ]
  },
  {
   "cell_type": "code",
   "execution_count": 30,
   "metadata": {},
   "outputs": [],
   "source": [
    "#eliminamos los datos nulos que hayan en la columna \"Year\"\n",
    "user_reviews_final.dropna(subset=\"Year\", inplace=True)"
   ]
  },
  {
   "cell_type": "code",
   "execution_count": 31,
   "metadata": {},
   "outputs": [],
   "source": [
    "#Eliminamos los datos nulos de las columnas donde todas las filas sean nulas\n",
    "user_reviews_final.dropna(how=\"all\",inplace=True)"
   ]
  },
  {
   "cell_type": "code",
   "execution_count": 44,
   "metadata": {},
   "outputs": [
    {
     "name": "stdout",
     "output_type": "stream",
     "text": [
      "<class 'pandas.core.frame.DataFrame'>\n",
      "Index: 24249 entries, 2 to 59304\n",
      "Data columns (total 5 columns):\n",
      " #   Column              Non-Null Count  Dtype \n",
      "---  ------              --------------  ----- \n",
      " 0   User ID             24249 non-null  object\n",
      " 1   Item ID             24249 non-null  object\n",
      " 2   Recommend           24249 non-null  object\n",
      " 3   Sentiment Analysis  24249 non-null  int64 \n",
      " 4   Year                24249 non-null  object\n",
      "dtypes: int64(1), object(4)\n",
      "memory usage: 1.1+ MB\n"
     ]
    }
   ],
   "source": [
    "#vemos como van quedando los datos y la cantidad\n",
    "user_reviews_final.info()"
   ]
  },
  {
   "cell_type": "code",
   "execution_count": 35,
   "metadata": {},
   "outputs": [],
   "source": [
    "#eliminamos las columnas que ya no utilizamos\n",
    "user_reviews_final.drop('Helpful' , axis = 1, inplace = True)\n",
    "user_reviews_final.drop('User URL' , axis = 1, inplace = True)\n",
    "user_reviews_final.drop('review' , axis = 1, inplace = True)"
   ]
  },
  {
   "cell_type": "code",
   "execution_count": 38,
   "metadata": {},
   "outputs": [],
   "source": [
    "#eliminamos datos duplicados que hayan en el dataframe\n",
    "user_reviews_final.drop_duplicates(inplace=True)"
   ]
  },
  {
   "cell_type": "code",
   "execution_count": 39,
   "metadata": {},
   "outputs": [
    {
     "data": {
      "text/html": [
       "<div>\n",
       "<style scoped>\n",
       "    .dataframe tbody tr th:only-of-type {\n",
       "        vertical-align: middle;\n",
       "    }\n",
       "\n",
       "    .dataframe tbody tr th {\n",
       "        vertical-align: top;\n",
       "    }\n",
       "\n",
       "    .dataframe thead th {\n",
       "        text-align: right;\n",
       "    }\n",
       "</style>\n",
       "<table border=\"1\" class=\"dataframe\">\n",
       "  <thead>\n",
       "    <tr style=\"text-align: right;\">\n",
       "      <th></th>\n",
       "      <th>User ID</th>\n",
       "      <th>Item ID</th>\n",
       "      <th>Recommend</th>\n",
       "      <th>Sentiment Analysis</th>\n",
       "      <th>Year</th>\n",
       "    </tr>\n",
       "  </thead>\n",
       "  <tbody>\n",
       "    <tr>\n",
       "      <th>0</th>\n",
       "      <td>76561197970982479</td>\n",
       "      <td>1250</td>\n",
       "      <td>True</td>\n",
       "      <td>2</td>\n",
       "      <td>2011</td>\n",
       "    </tr>\n",
       "    <tr>\n",
       "      <th>1</th>\n",
       "      <td>76561197970982479</td>\n",
       "      <td>22200</td>\n",
       "      <td>True</td>\n",
       "      <td>2</td>\n",
       "      <td>2011</td>\n",
       "    </tr>\n",
       "  </tbody>\n",
       "</table>\n",
       "</div>"
      ],
      "text/plain": [
       "             User ID Item ID Recommend  Sentiment Analysis  Year\n",
       "0  76561197970982479    1250      True                   2  2011\n",
       "1  76561197970982479   22200      True                   2  2011"
      ]
     },
     "execution_count": 39,
     "metadata": {},
     "output_type": "execute_result"
    }
   ],
   "source": [
    "#vemos como van quedando los datos y las columnas\n",
    "user_reviews_final.head(2)"
   ]
  },
  {
   "cell_type": "code",
   "execution_count": 19,
   "metadata": {},
   "outputs": [],
   "source": [
    "#convertimos el archivo a parquet\n",
    "user_reviews_final.to_parquet(\"user_reviews_final.parquet\")"
   ]
  }
 ],
 "metadata": {
  "kernelspec": {
   "display_name": "Python 3",
   "language": "python",
   "name": "python3"
  },
  "language_info": {
   "codemirror_mode": {
    "name": "ipython",
    "version": 3
   },
   "file_extension": ".py",
   "mimetype": "text/x-python",
   "name": "python",
   "nbconvert_exporter": "python",
   "pygments_lexer": "ipython3",
   "version": "3.11.6"
  }
 },
 "nbformat": 4,
 "nbformat_minor": 2
}
