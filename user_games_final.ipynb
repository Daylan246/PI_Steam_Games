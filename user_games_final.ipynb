{
 "cells": [
  {
   "cell_type": "code",
   "execution_count": 1,
   "metadata": {},
   "outputs": [],
   "source": [
    "#Cargamos las librerias que vamos a utilizar para la limpieza de datos\n",
    "import json\n",
    "import ast\n",
    "import numpy as np\n",
    "import pandas as pd\n",
    "from textblob import TextBlob\n",
    "from vaderSentiment.vaderSentiment import SentimentIntensityAnalyzer\n",
    "import nltk\n",
    "import pyarrow"
   ]
  },
  {
   "cell_type": "code",
   "execution_count": 6,
   "metadata": {},
   "outputs": [],
   "source": [
    "data = []  # Inicializar la lista para almacenar los datos\n",
    "\n",
    "# Leer datos desde el archivo JSON y cargarlos en la lista 'data'\n",
    "with open('C:\\\\Users\\\\Dr-Pc\\\\OneDrive\\\\Escritorio\\\\PI MLOps - STEAM\\\\output_steam_games.json', 'r') as file:\n",
    "    for line in file:\n",
    "        data.append(json.loads(line))\n",
    "\n",
    "# Crear el DataFrame a partir de la lista 'data'\n",
    "user_games_final = pd.DataFrame(data)"
   ]
  },
  {
   "cell_type": "code",
   "execution_count": 7,
   "metadata": {},
   "outputs": [],
   "source": [
    "#aquí renombramos las columnas para que sea vean más prolijas y esteticas\n",
    "user_games_final.rename(columns={'publisher': 'Publisher'}, inplace=True)\n",
    "user_games_final.rename(columns={'genres': 'Genres'}, inplace=True)\n",
    "user_games_final.rename(columns={'app_name': 'App Name'}, inplace=True)\n",
    "user_games_final.rename(columns={'url': 'URL'}, inplace=True)\n",
    "user_games_final.rename(columns={'tags': 'Tags'}, inplace=True)\n",
    "user_games_final.rename(columns={'reviews_url': 'Reviews URL'}, inplace=True)\n",
    "user_games_final.rename(columns={'specs': 'Specs'}, inplace=True)\n",
    "user_games_final.rename(columns={'price': 'Price'}, inplace=True)\n",
    "user_games_final.rename(columns={'early_access': 'Early Access'}, inplace=True)\n",
    "user_games_final.rename(columns={'id': 'Item ID'}, inplace=True)\n",
    "user_games_final.rename(columns={'developer': 'Developer'}, inplace=True)\n",
    "user_games_final.rename(columns={'title': 'Item Name'}, inplace=True)"
   ]
  },
  {
   "cell_type": "code",
   "execution_count": 8,
   "metadata": {},
   "outputs": [],
   "source": [
    "#creamos la columna \"Release Date\" que llenaremos con datos extraidos de la columna \"release_date\"\n",
    "user_games_final['Release Date'] = user_games_final['release_date'].str.extract(r'(\\d{4})')\n",
    "#eliminamos la columna que ya no utilizamos\n",
    "user_games_final.drop('release_date' , axis = 1, inplace = True)"
   ]
  },
  {
   "cell_type": "code",
   "execution_count": 9,
   "metadata": {},
   "outputs": [],
   "source": [
    "#borramos datos nulos\n",
    "user_games_final.dropna(subset=['Release Date'], inplace=True)"
   ]
  },
  {
   "cell_type": "code",
   "execution_count": 10,
   "metadata": {},
   "outputs": [],
   "source": [
    "#borramos los duplicados \n",
    "user_games_final.drop_duplicates(subset=\"URL\", inplace=True)"
   ]
  },
  {
   "cell_type": "code",
   "execution_count": 11,
   "metadata": {},
   "outputs": [],
   "source": [
    "#borramos las filas en donde todas las columnas sean nulos\n",
    "user_games_final.dropna(how=\"all\",inplace=True)"
   ]
  },
  {
   "cell_type": "code",
   "execution_count": 12,
   "metadata": {},
   "outputs": [
    {
     "name": "stdout",
     "output_type": "stream",
     "text": [
      "Publisher       object\n",
      "Genres          object\n",
      "App Name        object\n",
      "Item Name       object\n",
      "URL             object\n",
      "Tags            object\n",
      "Reviews URL     object\n",
      "Specs           object\n",
      "Price           object\n",
      "Early Access    object\n",
      "Item ID         object\n",
      "Developer       object\n",
      "Release Date    object\n",
      "dtype: object\n"
     ]
    }
   ],
   "source": [
    "# Verificar los tipos de datos de las columnas\n",
    "print(user_games_final.dtypes)\n",
    "\n",
    "# Convertir las columnas a tipo cadena y eliminar corchetes y comillas, conservando los valores nulos\n",
    "columns_to_clean = ['Specs', 'Tags', 'Genres']\n",
    "\n",
    "for column in columns_to_clean:\n",
    "    user_games_final[column] = user_games_final[column].apply(lambda x: ', '.join([i.replace(\"[\", \"\").replace(\"]\", \"\").replace(\"'\", \"\").replace(\"\\\"\", \"\") for i in x]) if isinstance(x, list) else x)"
   ]
  },
  {
   "cell_type": "code",
   "execution_count": 13,
   "metadata": {},
   "outputs": [],
   "source": [
    "# Capitalizar la primera letra de cada palabra en la columna 'Specs', pasando los valores nulos de largo\n",
    "user_games_final['Specs'] = user_games_final['Specs'].apply(lambda x: [word.title() for word in x] if isinstance(x, list) else x if pd.notnull(x) else None)\n",
    "\n",
    "# Capitalizar la primera letra de cada palabra en la columna 'Genres', pasando los valores nulos de largo\n",
    "user_games_final['Genres'] = user_games_final['Genres'].apply(lambda x: [word.title() for word in x] if isinstance(x, list) else x if pd.notnull(x) else None)\n",
    "\n",
    "# Capitalizar la primera letra de cada palabra en la columna 'Tags', pasando los valores nulos de largo\n",
    "user_games_final['Tags'] = user_games_final['Tags'].apply(lambda x: [word.title() for word in x] if isinstance(x, list) else x if pd.notnull(x) else None)"
   ]
  },
  {
   "cell_type": "code",
   "execution_count": 14,
   "metadata": {},
   "outputs": [],
   "source": [
    "# Convertir Early Access a tipo de datos booleano y manejar valores nulos\n",
    "user_games_final['Early Access'] = user_games_final['Early Access'].apply(lambda x: True if x == 'True' else (False if x == 'False' else x) if x is not None else x)\n",
    "\n",
    "# Convierte los valores no nulos a cadena de texto y mantiene los valores nulos\n",
    "user_games_final['Reviews URL'] = user_games_final['Reviews URL'].apply(lambda x: str(x).strip() if pd.notnull(x) else None)\n",
    "\n",
    "# Convierte los valores no nulos a cadena de texto y mantiene los valores nulos\n",
    "user_games_final['URL'] = user_games_final['URL'].apply(lambda x: str(x).strip() if pd.notnull(x) else None)"
   ]
  },
  {
   "cell_type": "code",
   "execution_count": 35,
   "metadata": {},
   "outputs": [
    {
     "name": "stdout",
     "output_type": "stream",
     "text": [
      "<class 'pandas.core.frame.DataFrame'>\n",
      "Index: 11264 entries, 1 to 22527\n",
      "Data columns (total 5 columns):\n",
      " #   Column        Non-Null Count  Dtype \n",
      "---  ------        --------------  ----- \n",
      " 0   Genres        11264 non-null  object\n",
      " 1   Item Name     11264 non-null  object\n",
      " 2   Item ID       11264 non-null  object\n",
      " 3   Developer     11264 non-null  object\n",
      " 4   Release Date  11264 non-null  object\n",
      "dtypes: object(5)\n",
      "memory usage: 528.0+ KB\n"
     ]
    }
   ],
   "source": [
    "#vemos como van quedando los datos y la cantidad \n",
    "user_games_final.info()"
   ]
  },
  {
   "cell_type": "code",
   "execution_count": 17,
   "metadata": {},
   "outputs": [],
   "source": [
    "#borramos los datos nulos de las siguientes columnas \n",
    "user_games_final.dropna(subset=['Publisher'], inplace=True)\n",
    "user_games_final.dropna(subset=['Genres'], inplace=True)\n",
    "user_games_final.dropna(subset=['App Name'], inplace=True)\n",
    "user_games_final.dropna(subset=['URL'], inplace=True)\n",
    "user_games_final.dropna(subset=['Tags'], inplace=True)\n",
    "user_games_final.dropna(subset=['Reviews URL'], inplace=True)\n",
    "user_games_final.dropna(subset=['Specs'], inplace=True)\n",
    "user_games_final.dropna(subset=['Price'], inplace=True)\n",
    "user_games_final.dropna(subset=['Item ID'], inplace=True)\n",
    "user_games_final.dropna(subset=['Developer'], inplace=True)\n",
    "user_games_final.dropna(subset=['Early Access'], inplace=True)"
   ]
  },
  {
   "cell_type": "code",
   "execution_count": 18,
   "metadata": {},
   "outputs": [],
   "source": [
    "#reseteamos en index del archivo\n",
    "user_games_final.reset_index(drop=True, inplace=True)"
   ]
  },
  {
   "cell_type": "code",
   "execution_count": 19,
   "metadata": {},
   "outputs": [],
   "source": [
    "#borramos la columa URL\n",
    "user_games_final.drop('URL' , axis = 1, inplace = True)"
   ]
  },
  {
   "cell_type": "code",
   "execution_count": 20,
   "metadata": {},
   "outputs": [],
   "source": [
    "#borramos la columna Reviews URL\n",
    "user_games_final.drop('Reviews URL' , axis = 1, inplace = True)"
   ]
  },
  {
   "cell_type": "code",
   "execution_count": 32,
   "metadata": {},
   "outputs": [],
   "source": [
    "#borramos las siguientes columnas\n",
    "user_games_final.drop('Publisher' , axis = 1, inplace = True)\n",
    "user_games_final.drop('App Name' , axis = 1, inplace = True)\n",
    "user_games_final.drop('URL' , axis = 1, inplace = True)\n",
    "user_games_final.drop('Tags' , axis = 1, inplace = True)\n",
    "user_games_final.drop('Reviews URL' , axis = 1, inplace = True)\n",
    "user_games_final.drop('Specs' , axis = 1, inplace = True)\n",
    "user_games_final.drop('Price' , axis = 1, inplace = True)\n",
    "user_games_final.drop('Early Access' , axis = 1, inplace = True)"
   ]
  },
  {
   "cell_type": "code",
   "execution_count": 22,
   "metadata": {},
   "outputs": [],
   "source": [
    "#renombramos app name a item name\n",
    "user_games_final.rename(columns={'App Name': 'Item Name'}, inplace=True)"
   ]
  },
  {
   "cell_type": "code",
   "execution_count": 33,
   "metadata": {},
   "outputs": [
    {
     "data": {
      "text/html": [
       "<div>\n",
       "<style scoped>\n",
       "    .dataframe tbody tr th:only-of-type {\n",
       "        vertical-align: middle;\n",
       "    }\n",
       "\n",
       "    .dataframe tbody tr th {\n",
       "        vertical-align: top;\n",
       "    }\n",
       "\n",
       "    .dataframe thead th {\n",
       "        text-align: right;\n",
       "    }\n",
       "</style>\n",
       "<table border=\"1\" class=\"dataframe\">\n",
       "  <thead>\n",
       "    <tr style=\"text-align: right;\">\n",
       "      <th></th>\n",
       "      <th>Genres</th>\n",
       "      <th>Item Name</th>\n",
       "      <th>Item ID</th>\n",
       "      <th>Developer</th>\n",
       "      <th>Release Date</th>\n",
       "    </tr>\n",
       "  </thead>\n",
       "  <tbody>\n",
       "    <tr>\n",
       "      <th>0</th>\n",
       "      <td>Action, Casual, Indie, Simulation, Strategy</td>\n",
       "      <td>Lost Summoner Kitty</td>\n",
       "      <td>761140</td>\n",
       "      <td>Kotoshiro</td>\n",
       "      <td>2018</td>\n",
       "    </tr>\n",
       "    <tr>\n",
       "      <th>1</th>\n",
       "      <td>Free to Play, Indie, RPG, Strategy</td>\n",
       "      <td>Ironbound</td>\n",
       "      <td>643980</td>\n",
       "      <td>Secret Level SRL</td>\n",
       "      <td>2018</td>\n",
       "    </tr>\n",
       "    <tr>\n",
       "      <th>2</th>\n",
       "      <td>Casual, Free to Play, Indie, Simulation, Sports</td>\n",
       "      <td>Real Pool 3D - Poolians</td>\n",
       "      <td>670290</td>\n",
       "      <td>Poolians.com</td>\n",
       "      <td>2017</td>\n",
       "    </tr>\n",
       "    <tr>\n",
       "      <th>3</th>\n",
       "      <td>Action, Adventure, Casual</td>\n",
       "      <td>弹炸人2222</td>\n",
       "      <td>767400</td>\n",
       "      <td>彼岸领域</td>\n",
       "      <td>2017</td>\n",
       "    </tr>\n",
       "    <tr>\n",
       "      <th>4</th>\n",
       "      <td>Action, Adventure, Simulation</td>\n",
       "      <td>Battle Royale Trainer</td>\n",
       "      <td>772540</td>\n",
       "      <td>Trickjump Games Ltd</td>\n",
       "      <td>2018</td>\n",
       "    </tr>\n",
       "  </tbody>\n",
       "</table>\n",
       "</div>"
      ],
      "text/plain": [
       "                                            Genres                Item Name  \\\n",
       "0      Action, Casual, Indie, Simulation, Strategy      Lost Summoner Kitty   \n",
       "1               Free to Play, Indie, RPG, Strategy                Ironbound   \n",
       "2  Casual, Free to Play, Indie, Simulation, Sports  Real Pool 3D - Poolians   \n",
       "3                        Action, Adventure, Casual                  弹炸人2222   \n",
       "4                    Action, Adventure, Simulation    Battle Royale Trainer   \n",
       "\n",
       "  Item ID            Developer Release Date  \n",
       "0  761140            Kotoshiro         2018  \n",
       "1  643980     Secret Level SRL         2018  \n",
       "2  670290         Poolians.com         2017  \n",
       "3  767400                 彼岸领域         2017  \n",
       "4  772540  Trickjump Games Ltd         2018  "
      ]
     },
     "execution_count": 33,
     "metadata": {},
     "output_type": "execute_result"
    }
   ],
   "source": [
    "#vemos como van quedando los datos y las columnas\n",
    "user_games_final.head()"
   ]
  },
  {
   "cell_type": "code",
   "execution_count": 47,
   "metadata": {},
   "outputs": [],
   "source": [
    "#creamos un archivo parquet del dataframe a parquet\n",
    "user_games_final.to_parquet('user_games_final.parquet')"
   ]
  }
 ],
 "metadata": {
  "kernelspec": {
   "display_name": "Python 3",
   "language": "python",
   "name": "python3"
  },
  "language_info": {
   "codemirror_mode": {
    "name": "ipython",
    "version": 3
   },
   "file_extension": ".py",
   "mimetype": "text/x-python",
   "name": "python",
   "nbconvert_exporter": "python",
   "pygments_lexer": "ipython3",
   "version": "3.11.6"
  }
 },
 "nbformat": 4,
 "nbformat_minor": 2
}
